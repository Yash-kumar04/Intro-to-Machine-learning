{
 "cells": [
  {
   "cell_type": "markdown",
   "id": "0b4f4e34",
   "metadata": {},
   "source": [
    "# Statistics and Data Analysis Assignment\n",
    "**Author:** Yash Kumar\n",
    "\n",
    "---"
   ]
  },
  {
   "cell_type": "markdown",
   "id": "c1d33a6b",
   "metadata": {},
   "source": [
    "### This notebook includes solutions to probability, regression, variance, and modeling tasks using Python."
   ]
  },
  {
   "cell_type": "markdown",
   "id": "564f4005",
   "metadata": {},
   "source": [
    "## 🌳 Bonus: Decision Tree Regressor with Tree Plot"
   ]
  },
  {
   "cell_type": "code",
   "execution_count": null,
   "id": "5d8a818c",
   "metadata": {},
   "outputs": [],
   "source": [
    "\n",
    "import numpy as np\n",
    "from sklearn.tree import DecisionTreeRegressor, plot_tree\n",
    "import matplotlib.pyplot as plt\n",
    "\n",
    "X = np.array([\n",
    "    [1, 5],\n",
    "    [2, 6],\n",
    "    [3, 8],\n",
    "    [4, 10],\n",
    "    [5, 12],\n",
    "    [6, 15],\n",
    "    [7, 18],\n",
    "    [8, 20]\n",
    "])\n",
    "y = np.array([10, 12, 15, 18, 21, 25, 28, 30])\n",
    "\n",
    "model = DecisionTreeRegressor(random_state=0)\n",
    "model.fit(X, y)\n",
    "\n",
    "plt.figure(figsize=(12, 6))\n",
    "plot_tree(model, feature_names=[\"x1\", \"x2\"], filled=True, rounded=True)\n",
    "plt.title(\"Fully Grown Regression Tree\")\n",
    "plt.show()\n"
   ]
  }
 ],
 "metadata": {},
 "nbformat": 4,
 "nbformat_minor": 5
}
