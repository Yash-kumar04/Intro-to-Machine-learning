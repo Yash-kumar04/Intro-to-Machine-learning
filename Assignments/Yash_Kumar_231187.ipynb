{
 "cells": [
  {
   "cell_type": "markdown",
   "id": "c30af16e",
   "metadata": {},
   "source": [
    "# Statistics and Data Analysis Assignment\n",
    "**Author:** Yash Kumar\n",
    "\n",
    "---"
   ]
  },
  {
   "cell_type": "markdown",
   "id": "3ed3aab3",
   "metadata": {},
   "source": [
    "## 📘 Problem 1: Z-Phone Lifespan Probability"
   ]
  },
  {
   "cell_type": "code",
   "execution_count": null,
   "id": "002fbb5f",
   "metadata": {},
   "outputs": [],
   "source": [
    "\n",
    "from scipy.stats import norm\n",
    "\n",
    "mu = 42\n",
    "sigma = 8\n",
    "\n",
    "# Convert to z-scores\n",
    "z1 = (20 - mu) / sigma\n",
    "z2 = (30 - mu) / sigma\n",
    "\n",
    "# Find probability between z1 and z2\n",
    "prob = norm.cdf(z2) - norm.cdf(z1)\n",
    "print(f\"Probability Z-Phone lasts between 20 and 30 months: {prob:.4f}\")\n"
   ]
  },
  {
   "cell_type": "markdown",
   "id": "46f4d7e3",
   "metadata": {},
   "source": [
    "## 📘 Problem 2: Survival Time - Censored Data"
   ]
  },
  {
   "cell_type": "code",
   "execution_count": null,
   "id": "8cc3c6fd",
   "metadata": {},
   "outputs": [],
   "source": [
    "\n",
    "import numpy as np\n",
    "\n",
    "data = [75, 63, 100, 36, 51, 45, 80, 90]  # Treat 100+ as 100 for median\n",
    "median = np.median(data)\n",
    "print(f\"Estimated median survival time: {median} hours\")\n"
   ]
  },
  {
   "cell_type": "markdown",
   "id": "740324ac",
   "metadata": {},
   "source": [
    "## 📘 Problem 3: Age and Weight Regression"
   ]
  },
  {
   "cell_type": "code",
   "execution_count": null,
   "id": "1a6e8bff",
   "metadata": {},
   "outputs": [],
   "source": [
    "\n",
    "n = 250\n",
    "x_bar = 34.5\n",
    "y_bar = 147.0\n",
    "sum_x2 = 314625\n",
    "sum_xy = 1305000\n",
    "\n",
    "Sxy = sum_xy - n * x_bar * y_bar\n",
    "Sxx = sum_x2 - n * x_bar**2\n",
    "\n",
    "slope = Sxy / Sxx\n",
    "intercept = y_bar - slope * x_bar\n",
    "\n",
    "print(f\"Regression Line: y = {intercept:.2f} + {slope:.2f}x\")\n",
    "\n",
    "# Predict weight at age 25\n",
    "x_pred = 25\n",
    "y_pred = intercept + slope * x_pred\n",
    "print(f\"Predicted weight for 25-year-old: {y_pred:.2f} lbs\")\n",
    "\n",
    "# Residual if observed weight = 170\n",
    "y_obs = 170\n",
    "residual = y_obs - y_pred\n",
    "print(f\"Residual: {residual:.2f} lbs\")\n",
    "\n",
    "# Under or Overestimate?\n",
    "if residual > 0:\n",
    "    print(\"Underestimate: Actual weight is more than predicted.\")\n",
    "else:\n",
    "    print(\"Overestimate: Actual weight is less than predicted.\")\n"
   ]
  },
  {
   "cell_type": "markdown",
   "id": "7d50230c",
   "metadata": {},
   "source": [
    "## 📘 Problem 4: Cold Start Times"
   ]
  },
  {
   "cell_type": "code",
   "execution_count": null,
   "id": "8d10ddee",
   "metadata": {},
   "outputs": [],
   "source": [
    "\n",
    "import matplotlib.pyplot as plt\n",
    "\n",
    "fuel_a = [1.75, 1.92, 2.62, 2.35, 3.09, 3.15, 2.53, 1.91]\n",
    "fuel_b = [1.83, 1.99, 3.13, 3.29, 2.65, 2.87, 3.40, 2.46, 1.89, 3.35]\n",
    "\n",
    "mean_a = np.mean(fuel_a)\n",
    "var_a = np.var(fuel_a, ddof=1)\n",
    "std_a = np.std(fuel_a, ddof=1)\n",
    "\n",
    "print(f\"Fuel A Mean: {mean_a:.2f}, Variance: {var_a:.4f}, Std Dev: {std_a:.4f}\")\n",
    "\n",
    "plt.boxplot([fuel_a, fuel_b], labels=[\"Fuel A\", \"Fuel B\"])\n",
    "plt.title(\"Cold Start Ignition Times\")\n",
    "plt.ylabel(\"Time (seconds)\")\n",
    "plt.grid(True)\n",
    "plt.show()\n"
   ]
  },
  {
   "cell_type": "markdown",
   "id": "ed5df3e3",
   "metadata": {},
   "source": [
    "## 📘 Problem 5: Linear Model with Noise (Simulation)"
   ]
  },
  {
   "cell_type": "code",
   "execution_count": null,
   "id": "89a29e42",
   "metadata": {},
   "outputs": [],
   "source": [
    "\n",
    "from sklearn.linear_model import LinearRegression\n",
    "from sklearn.preprocessing import PolynomialFeatures\n",
    "from sklearn.metrics import mean_squared_error\n",
    "from sklearn.model_selection import train_test_split\n",
    "\n",
    "# a. Generate Data\n",
    "np.random.seed(42)\n",
    "X = np.linspace(0, 10, 100)\n",
    "y = 3 * X + 7 + np.random.normal(0, 5, size=X.shape)\n",
    "\n",
    "X = X.reshape(-1, 1)\n",
    "y = y.reshape(-1, 1)\n",
    "\n",
    "# Split\n",
    "X_train, X_test, y_train, y_test = train_test_split(X, y, test_size=0.2, random_state=42)\n",
    "\n",
    "def train_and_plot(degree):\n",
    "    poly = PolynomialFeatures(degree)\n",
    "    X_train_poly = poly.fit_transform(X_train)\n",
    "    X_test_poly = poly.transform(X_test)\n",
    "\n",
    "    model = LinearRegression().fit(X_train_poly, y_train)\n",
    "    y_pred = model.predict(X_test_poly)\n",
    "\n",
    "    mse = mean_squared_error(y_test, y_pred)\n",
    "    print(f\"Degree {degree} Polynomial MSE: {mse:.2f}\")\n",
    "\n",
    "    X_all = np.linspace(0, 10, 100).reshape(-1, 1)\n",
    "    X_all_poly = poly.transform(X_all)\n",
    "    y_fit = model.predict(X_all_poly)\n",
    "\n",
    "    plt.scatter(X, y, color='gray', label='Data')\n",
    "    plt.plot(X_all, y_fit, label=f'Degree {degree} Fit')\n",
    "    plt.title(f\"Polynomial Regression (Degree {degree})\")\n",
    "    plt.xlabel(\"X\")\n",
    "    plt.ylabel(\"y\")\n",
    "    plt.legend()\n",
    "    plt.grid(True)\n",
    "    plt.show()\n",
    "\n",
    "for d in [1, 2, 3]:\n",
    "    train_and_plot(d)\n"
   ]
  }
 ],
 "metadata": {},
 "nbformat": 4,
 "nbformat_minor": 5
}
